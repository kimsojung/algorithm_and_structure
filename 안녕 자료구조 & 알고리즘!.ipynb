{
 "cells": [
  {
   "cell_type": "markdown",
   "metadata": {},
   "source": [
    "<div class=\"markdown github\"><h1>선형 배열 (Linear Arrays)</h1>\n",
    "\n",
    "<p>선형 배열은 데이터들이 선 (line) 처럼 일렬로 늘어선 형태를 말합니다. 보통 프로그래밍에서 배열 (array) 이라고 하면 같은 종류의 데이터가 줄지어 늘어서 있는 것을 뜻하는데요, Python 에서는 서로 다른 종류의 데이터 또한 줄세울 수 있는 리스트 (list) 라는 데이터형이 있습니다.</p>\n",
    "\n",
    "<p>이 강의에서는 같은 종류의 데이터가 줄지어 늘어서 있는 배열을 이용하려 합니다. 앞으로 배열 (array) 이라는 말과 리스트 (list) 라는 말이 자주 등장할 겁니다만, 우선은 같은 것이라고 생각해도 좋지만, 개념적인 구조, 즉 데이터를 늘어놓은 모양새를 말할 때는 배열 (array), Python 의 데이터형을 가리킬 때에는 리스트 (list) 라는 용어를 사용하겠습니다.</p>\n",
    "\n",
    "<p>또한, 제 7 강부터는 <q>연결 리스트 (linked list)</q> 라는 용어가 등장하게 되는데, 이것과는 구별되어야 합니다. 그것은 그때 가서 다시 얘기하기로 해요.</p>\n",
    "\n",
    "<h2>Python 리스트에 활용할 수 있는 연산들</h2>\n",
    "\n",
    "<h3>리스트 길이과 관계 없이 빠르게 실행 결과를 보게되는 연산들</h3>\n",
    "\n",
    "<ul>\n",
    "<li>원소 덧붙이기 <code>.append()</code></li>\n",
    "<li>원소 하나를 꺼내기 <code>.pop()</code></li>\n",
    "</ul>\n",
    "\n",
    "<p>위 연산들은 리스트의 길이와 무관하게 빠르게 실행할 수 있는 연산들입니다. 리스트의 길이가 아무리 길어도 맨 끝에 요소 하나를 추가하는 것이나 맨 끝 요소 하나를 빼는건 빠르게 할 수 있는 일이죠. 반면, 리스트가 커지면 그에 따라 실행시간이 길어지는 연산들도 있습니다.</p>\n",
    "\n",
    "<h3>리스트의 길이에 비례해서 실행 시간이 걸리는 연산들</h3>\n",
    "\n",
    "<ul>\n",
    "<li>원소 삽입하기 <code>.insert()</code></li>\n",
    "<li>원소 삭제하기 <code>.del()</code></li>\n",
    "</ul>\n",
    "\n",
    "<p>이런 연산들은 리스트의 길이가 길면 길수록 처리가 오래 걸리게 됩니다. 구체적으로 말하면 리스트의 길이예 실행 시간이 비례합니다. 리스트 길이가 100 배가 되면, 위 연산들을 실행하는 데 걸리는 시간도 100 배 커집니다.</p>\n",
    "\n",
    "<h3>추가 다른 연산</h3>\n",
    "\n",
    "<ul>\n",
    "<li>원소 탐색하기: <code>.index()</code></li>\n",
    "</ul>\n",
    "</div>"
   ]
  },
  {
   "cell_type": "code",
   "execution_count": 151,
   "metadata": {},
   "outputs": [],
   "source": [
    "def solution(L, x):\n",
    "    answer = []\n",
    "    for i in range(len(L)):\n",
    "        if L[i] > x:\n",
    "            L.insert(i,x)    \n",
    "            answer =L\n",
    "    return answer\n"
   ]
  },
  {
   "cell_type": "code",
   "execution_count": 152,
   "metadata": {},
   "outputs": [
    {
     "data": {
      "text/plain": [
       "[20, 37, 58, 65, 65, 72, 91]"
      ]
     },
     "execution_count": 152,
     "metadata": {},
     "output_type": "execute_result"
    }
   ],
   "source": [
    "solution([20, 37, 58, 72, 91],65)"
   ]
  },
  {
   "cell_type": "markdown",
   "metadata": {},
   "source": [
    "<div class=\"markdown github\"><h1>배열 - 정렬 (sort) 과 탐색 (search)</h1>\n",
    "\n",
    "<p><strong>이번 강의에서는 <code>lambda</code> (람다) 문법이 등장하므로, 해당 문법에 익숙하지 않다면 잠시 복습을 하고 수강하길 권장합니다.</strong></p>\n",
    "\n",
    "<p>정렬과 탐색은 많은 응용에 적용되는, 알고리즘들 중에서도 가장 널리 알려져 있으며 활용도도 높은 것들이라고 할 수 있을 것입니다. 정렬과 탐색을 위한 여러 자료 구조와 알고리즘들이 있지만, 여기에서는 간단하게 선형 배열을 대상으로 정렬과 탐색의 기초를 배워봅니다. 그런데, 선형 배열이 무엇인가요? (잊어버렸다면 지난 강의의 노트를 읽어보는 것도 좋을 겁니다.)</p>\n",
    "\n",
    "<h2>정렬(sort) 이란?</h2>\n",
    "\n",
    "<p>복수의 원소로 주어진 데이터를 정해진 기준에 따라 새로 늘어놓는 작업입니다. 정렬 알고리즘에는 여러 종류가 있습니다.</p>\n",
    "\n",
    "<p>Python 의 리스트 (list) 를 이용한다면, 직접 정렬 알고리즘을 구현할 필요가 없습니다. 왜냐면 이미 리스트 (list) 에 내장된 정렬 기능이 있기 때문인데요, 아래와 같은 서로 다른 두 방법이 대표적입니다.</p>\n",
    "\n",
    "<ol>\n",
    "<li>파이썬 내장 함수 <code>sorted()</code></li>\n",
    "<li>리스트에 쓸 수 있는 메서드 <code>.sort()</code></li>\n",
    "</ol>\n",
    "\n",
    "<p>이 두 방법의 적용이 익숙한가요? 즉, 함수 (function) 와 메서드 (method) 의 차이를 이해할 수 있나요? 만약 그렇지 않다면, 함수와 메서드에 대해서 조금 복습해보는 것도 앞으로의 강의를 이해하는 데 도움이 될 겁니다.</p>\n",
    "\n",
    "<h2>수치 (number) 가 아닌 데이터형의 정렬?</h2>\n",
    "\n",
    "<p>이 경우에는 문자열을 사전에 등장하는 순서에 따라 정렬합니다. 문자열의 길이가 더 길다고 해서 더 큰 문자로 취급하는 것이 아닙니다. 단, 차이가 있다면 영어사전에는 대소문자가 섞인 순서로 등장하지만 Python 문자열은 대문자가 소문자에 비해서 무조건 우선합니다. 그렇다면 만약 대소문자 구별을 무시하고 순전히 알파벳 순서에 따라 정렬하려면 어떻게 해야 할까요?</p>\n",
    "\n",
    "<p>답은 스스로 찾아보기를 권합니다. 만약 잘 모르겠다면, Python 의 문자열 다루기 부분을 복습해보는 것도 좋을 듯하네요.</p>\n",
    "\n",
    "<p>이 강의에서는 사전 (dictionary) 을 정렬하는 예도 포함합니다. 여러 데이터의 복합으로 이루어진 데이터 원소를 보통 (데이터베이스에서) 레코드 (record) 라고 부르는데요, 레코드를 Python 사전 (dictionary) 으로 표현하고 이것을 정렬하는 방법 또한 알아봅시다!</p>\n",
    "\n",
    "<h2>탐색 (search) 이란?</h2>\n",
    "\n",
    "<p>복수의 원소로 이루어진 데이터에서 특정 원소를 찾아내는 작업입니다. 탐색에도 여러 가지 방법이 있지만, 아주 기본적인 두 가지를 소개합니다.</p>\n",
    "\n",
    "<ol>\n",
    "<li>선형 탐색 (linear search), 또는 순차 탐색 (sequential search): 순차적으로 모든 요소들을 탐색하여 원하는 값을 찾아냅니다. 배열의 길이에 비례하는 시간이 걸리므로, 최악의 경우에는 배열에 있는 모든 원소를 다 검사해야 할 수 있습니다. (이런 일은 어떤 원소를 찾으려 할 때 벌어질까요?)</li>\n",
    "<li>이진 탐색 (binary search): 탐색하려는 배열이 이미 정렬되어 있는 경우에만 적용할 수 있습니다. 배열의 가운데 원소와 찾으려 하는 값을 비교하면, (크기 순으로 정렬되어 있다는 성질을 이용하면) 왼쪽에 있을지 오른쪽에 있을지를 알 수 있습니다 (만약 있긴 있다면). 그러면, 적어도 반대쪽에 없는 것은 확실하므로, 배열의 반을 탐색하지 않고 버릴 수 있습니다. 이 과정을 반복하면 원하는 값을 찾아낼 수 있습니다. 한 번에 절반씩 배열을 잘라나간다면...몇 번이나 이 과정을 반복하게 될까요? (약간의 수학이네요?)</li>\n",
    "</ol>\n",
    "\n",
    "<p>그래서 이진 탐색이 선형 탐색보다 빠른 방법이기는 합니다. 그러나, 뭔가를 찾으려 한다고 할 때, 항상 이진 탐색 방법을 적용하는 것이 답인가요? 그러려면 우선 배열을 정렬해야 한다던데, 크기 순으로 정렬하는 것은 금방 되나요? 한 번만 탐색하고 말 거라면, 굳이 크기 순으로 늘어놓느라 시간을 소모하는 것보다 한번씩 다 뒤지는 것이 낫지 않나요? (물론입니다.)</p>\n",
    "</div>"
   ]
  },
  {
   "cell_type": "code",
   "execution_count": null,
   "metadata": {},
   "outputs": [],
   "source": [
    "def linear_search(L,x):\n",
    "    i=0\n",
    "    while i < len(L) and L(i) !=x:\n",
    "        i += 1\n",
    "    if i < len(L):\n",
    "        return i\n",
    "    else:\n",
    "        return -1"
   ]
  },
  {
   "cell_type": "code",
   "execution_count": 89,
   "metadata": {},
   "outputs": [],
   "source": [
    "def solution(L, x):\n",
    "    answer = 0\n",
    "    lower = 0 \n",
    "    upper = len(L)-1\n",
    "    while lower < upper:\n",
    "        middle = (lower+upper)//2\n",
    "        if middle == lower or middle == upper:\n",
    "            answer = -1\n",
    "            break\n",
    "        if  L[middle] == x:\n",
    "            answer = L[middle]\n",
    "            break\n",
    "        elif L[middle] < x:\n",
    "            lower = middle-1\n",
    "            print(lower)\n",
    "        else:\n",
    "            upper = middle-1\n",
    "            print(upper)\n",
    "    return answer"
   ]
  },
  {
   "cell_type": "code",
   "execution_count": 87,
   "metadata": {},
   "outputs": [
    {
     "data": {
      "text/plain": [
       "6"
      ]
     },
     "execution_count": 87,
     "metadata": {},
     "output_type": "execute_result"
    }
   ],
   "source": [
    "solution([2, 3, 5, 6, 9, 11, 15],6)"
   ]
  },
  {
   "cell_type": "code",
   "execution_count": null,
   "metadata": {},
   "outputs": [],
   "source": [
    "def solution(L, x):\n",
    "    answer = 0\n",
    "    lower = 0 \n",
    "    upper = len(L)-1\n",
    "        while lower <= upper:\n",
    "        middle = (lower+upper)//2\n",
    "        if  L[middle] == x:\n",
    "            answer = middle\n",
    "            return answer\n",
    "        elif L[middle] < x:\n",
    "            lower = middle+1\n",
    "        else:\n",
    "            upper = middle-1\n",
    "    return answer"
   ]
  },
  {
   "cell_type": "markdown",
   "metadata": {},
   "source": [
    "<div class=\"markdown github\"><h1>재귀 알고리즘 (recursive algorithms) - 기초</h1>\n",
    "\n",
    "<p>알고리즘들 중에는, 재귀 알고리즘 (recursive algorithm) 이라고 불리는 것들이 있습니다. 이것은 알고리즘의 이름이 아니라 성질입니다. 주어진 문제가 있을 때, 이것을 같은 종류의 보다 쉬운 문제의 답을 이용해서 풀 수 있는 성질을 이용해서, 같은 알고리즘을 반복적으로 적용함으로써 풀어내는 방법입니다.</p>\n",
    "\n",
    "<p>예를 들면, 1 부터 n 까지 모든 자연수의 합을 구하는 문제 (<code>sum(n)</code>)는, 1 부터 n - 1 까지의 모든 자연수의 합을 구하는 문제 (<code>sum(n - 1)</code>)를 풀고, 여기에 n 을 더해서 그 답을 찾을 수 있습니다. 즉,</p>\n",
    "\n",
    "<p><code>sum(n) = sum(n - 1) + n</code></p>\n",
    "\n",
    "<p>입니다.</p>\n",
    "\n",
    "<p>생각보다 많은 종류의 문제들이 재귀적으로 (recursively) 풀립니다. 알아볼까요? 그러기 전에!</p>\n",
    "\n",
    "<p>위의 <code>sum(n)</code> 을 구하는 문제를 재귀적으로 해결하기 위해서는, 그 종결 조건 (trivial case) 을 명시해야 합니다. 위 수식 (수학에서는 <q>점화식</q> 이라는 용어를 사용합니다) 이 자연수들의 합을 구하는 문제를 푸는 데 적용될 수 있으려면, 무한히 <code>n - 1</code> 까지의 합을 적용해서는 안되고, 언젠가는 이에 대한 답을 주어야 합니다. 어떻게 하나요?</p>\n",
    "\n",
    "<p>그렇습니다. 1 부터 1 까지의 모든 자연수의 합은 1 이므로, 위 점화식에 덧붙여 하나의 수식을 추가해야 합니다: <code>sum(1) = 1</code>. 이 두 수식을 묶으면, 1 부터 n 까지의 자연수의 합을 구하는 문제의 답이 됩니다. 이것이 재귀 알고리즘 (recursive algorithm) 입니다.</p>\n",
    "\n",
    "<p>많은 경우, 재귀적으로 표현된 알고리즘은 사람이 이해하기는 좋지만, 컴퓨터가 알고리즘을 실행하면 그 성능도 좋을까요? 그렇지 않은 경우가 많습니다. 다음 강의인 제 5 강에서 재귀 알고리즘의 예를 추가로 소개하고, 효율성에 대한 논의도 해보기로 합시다.</p>\n",
    "</div>\n",
    " "
   ]
  },
  {
   "cell_type": "code",
   "execution_count": 97,
   "metadata": {},
   "outputs": [],
   "source": [
    "#recursive version\n",
    "def factorial(n):\n",
    "    if n>=1:\n",
    "        return n*factorial(n-1)\n",
    "    else:\n",
    "        return 1"
   ]
  },
  {
   "cell_type": "code",
   "execution_count": null,
   "metadata": {},
   "outputs": [],
   "source": [
    "#iterative version\n",
    "def sum(n):\n",
    "    s=0\n",
    "    while n>=0:\n",
    "        s+=n\n",
    "        n-=1\n",
    "    return s"
   ]
  },
  {
   "cell_type": "code",
   "execution_count": 98,
   "metadata": {},
   "outputs": [
    {
     "data": {
      "text/plain": [
       "24"
      ]
     },
     "execution_count": 98,
     "metadata": {},
     "output_type": "execute_result"
    }
   ],
   "source": [
    "factorial(4)"
   ]
  },
  {
   "cell_type": "code",
   "execution_count": null,
   "metadata": {},
   "outputs": [],
   "source": [
    "#Fibonacci 순열, recursive version\n",
    "def solution(x):\n",
    "    answer = 0\n",
    "    if x>=2:\n",
    "        return solution(x-1)+solution(x-2)\n",
    "    elif x==1:\n",
    "        return 1\n",
    "    else:\n",
    "        return 0\n"
   ]
  },
  {
   "cell_type": "code",
   "execution_count": 153,
   "metadata": {},
   "outputs": [],
   "source": [
    "#iterative version\n",
    "def solution(x):\n",
    "    f0 = 0\n",
    "    f1 = 1\n",
    "    while x > 0:\n",
    "        x-=1\n",
    "        f0, f1 = f1, f0+f1\n",
    "    return f0"
   ]
  },
  {
   "cell_type": "code",
   "execution_count": 160,
   "metadata": {},
   "outputs": [
    {
     "data": {
      "text/plain": [
       "8"
      ]
     },
     "execution_count": 160,
     "metadata": {},
     "output_type": "execute_result"
    }
   ],
   "source": [
    "solution(6)"
   ]
  }
 ],
 "metadata": {
  "kernelspec": {
   "display_name": "Python 3",
   "language": "python",
   "name": "python3"
  },
  "language_info": {
   "codemirror_mode": {
    "name": "ipython",
    "version": 3
   },
   "file_extension": ".py",
   "mimetype": "text/x-python",
   "name": "python",
   "nbconvert_exporter": "python",
   "pygments_lexer": "ipython3",
   "version": "3.6.4"
  }
 },
 "nbformat": 4,
 "nbformat_minor": 2
}
